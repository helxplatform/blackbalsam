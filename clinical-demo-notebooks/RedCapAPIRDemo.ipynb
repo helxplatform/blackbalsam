{
 "cells": [
  {
   "cell_type": "markdown",
   "metadata": {},
   "source": [
    "# Below is a demo for exporting data from RedCap.\n",
    "### Dependencies redcapAPI library, API_KEY, and project url."
   ]
  },
  {
   "cell_type": "code",
   "execution_count": null,
   "metadata": {},
   "outputs": [],
   "source": [
    "# Importing the library\n",
    "library(redcapAPI)"
   ]
  },
  {
   "cell_type": "markdown",
   "metadata": {},
   "source": [
    "### Establishing a connection to the redcap project."
   ]
  },
  {
   "cell_type": "code",
   "execution_count": null,
   "metadata": {},
   "outputs": [],
   "source": [
    "RedCap_URL <- \"<your-project-url>\"\n",
    "API_KEY <- \"<your-api-key>\"\n",
    "rcon <- redcapConnection(url=RedCap_URL, token=API_KEY)"
   ]
  },
  {
   "cell_type": "markdown",
   "metadata": {},
   "source": [
    "### Exporting project metadata from redcap. \n",
    "### The metadata consists of various keys like field_type, form_name, field_name, identifier etc."
   ]
  },
  {
   "cell_type": "code",
   "execution_count": null,
   "metadata": {},
   "outputs": [],
   "source": [
    "export_metadata <- exportMetaData(rcon,\n",
    "                  fields = NULL,\n",
    "                  forms = NULL,\n",
    ")\n",
    "\n",
    "export_metadata "
   ]
  },
  {
   "cell_type": "markdown",
   "metadata": {},
   "source": [
    "### Exporting Records from RedCap ."
   ]
  },
  {
   "cell_type": "code",
   "execution_count": null,
   "metadata": {},
   "outputs": [],
   "source": [
    "export <- suppressWarnings(exportRecords(\n",
    "   rcon,\n",
    "   fields = NULL,\n",
    "    forms = NULL,\n",
    "    recodrd= NULL\n",
    " ))\n",
    "\n",
    "export"
   ]
  },
  {
   "cell_type": "markdown",
   "metadata": {},
   "source": [
    "### Exporting Records by specifying different parameters such as records, fields,and forms. \n"
   ]
  },
  {
   "cell_type": "code",
   "execution_count": null,
   "metadata": {},
   "outputs": [],
   "source": [
    "# This is how a specific field can be exported. \n",
    "show_fields =exportRecords(\n",
    "  rcon,\n",
    "  fields = 'eligibility_1',\n",
    "  records = NULL,\n",
    "    )\n",
    "\n",
    "show_fields"
   ]
  },
  {
   "cell_type": "code",
   "execution_count": null,
   "metadata": {},
   "outputs": [],
   "source": [
    "# This is how a specific form can be exported by specifying the form name in the form paremeter.\n",
    "show_forms =exportRecords(\n",
    "    rcon,\n",
    "    forms = \"consent_to_participate\",\n",
    "    records = NULL,\n",
    "    )\n",
    "show_forms"
   ]
  },
  {
   "cell_type": "code",
   "execution_count": null,
   "metadata": {},
   "outputs": [],
   "source": [
    "# By assigning NULL value to the exportRecords function parameters all of the records can be exported at once.\n",
    "show_all_records =suppressWarnings(exportRecords(\n",
    "    rcon,\n",
    "    forms = NULL,\n",
    "    records = NULL,\n",
    "))\n",
    "\n",
    "show_all_records"
   ]
  },
  {
   "cell_type": "code",
   "execution_count": null,
   "metadata": {},
   "outputs": [],
   "source": [
    "# To save and read files from jupyter notebook the R function setwd() can be used. This function sets the working directory.\n",
    "# The home directory consists of jovyan, public, <user's directory>, and shared subdirectories.\n",
    "# Using the setwd function the working directory can be changed for example: setwd(\"/home/jovyan\"). This just\n",
    "# set the working directory to /home/jovyan. Now all files that are saved or being read in will be from /home/jovyan.\n",
    "# NOTE: Once the working directory is set the chosen directory will be the working directory unless changed. \n",
    "\n",
    "# Set the working dorectory for saving and reading in files. \n",
    "setwd(\"/home/shared/\")\n",
    "\n",
    "# To save data in csv format.\n",
    "write.csv(export_metadata, \"<prefered-file-name>.csv\", row.names = FALSE)"
   ]
  },
  {
   "cell_type": "code",
   "execution_count": null,
   "metadata": {},
   "outputs": [],
   "source": [
    "# To read data from csv file. \n",
    "read.csv(\"<file-name>.csv\")"
   ]
  },
  {
   "cell_type": "code",
   "execution_count": null,
   "metadata": {},
   "outputs": [],
   "source": [
    "# Set the working directory to /home/shared using setwd() from the above code. \n",
    "# To save your code to the persistent disk, use file.copy(\"<source file>\", \"<destination file>\").\n",
    "# Below code demonstrates, copying the current working file into /home/shared/.\n",
    "file.copy(\"/home/jovyan/blackbalsam/clinical-demo-notebooks/RedCapAPIRDemo.ipynb\", \"RedCapAPIRDemo-backup.ipynb\")"
   ]
  },
  {
   "cell_type": "code",
   "execution_count": null,
   "metadata": {},
   "outputs": [],
   "source": [
    "# To see the file that has been saved using the file.save, use file.show(<file name to view in the working directory>).\n",
    "# Below code shows the file saved in /home/shared/.\n",
    "file.show(\"RedCapAPIRDemo-backup.ipynb\")"
   ]
  },
  {
   "cell_type": "code",
   "execution_count": null,
   "metadata": {},
   "outputs": [],
   "source": [
    "# To start working on the saved file in the peristent disk, make a copy of the file into /home/jovyan/blackbalsam, \n",
    "# use file.copy(\"<source file>\", \"<destination file>\").\n",
    "# Below code shows, copying the file from /home/shared/ to the notebook home directory /home/jovyan/.\n",
    "file.copy(\"RedCapAPIRDemo-backup.ipynb\", \"/home/jovyan/blackbalsam/clinical-demo-notebooks/RedCapAPIRDemo-backup.ipynb\")"
   ]
  },
  {
   "cell_type": "code",
   "execution_count": null,
   "metadata": {},
   "outputs": [],
   "source": [
    "# To remove a file from a directory, use file.remove(\"<file name>\"). Below code deletes the files saved to /home/shared\n",
    "file.remove(\"RedCapAPIRDemo-backup.ipynb\")\n",
    "file.remove(\"/home/jovyan/blackbalsam/clinical-demo-notebooks/RedCapAPIRDemo-backup.ipynb\")"
   ]
  }
 ],
 "metadata": {
  "kernelspec": {
   "display_name": "R",
   "language": "R",
   "name": "ir"
  },
  "language_info": {
   "codemirror_mode": "r",
   "file_extension": ".r",
   "mimetype": "text/x-r-source",
   "name": "R",
   "pygments_lexer": "r",
   "version": "3.6.3"
  }
 },
 "nbformat": 4,
 "nbformat_minor": 4
}
