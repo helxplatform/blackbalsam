{
 "cells": [
  {
   "cell_type": "markdown",
   "metadata": {},
   "source": [
    "## This code is a demo for calling the Restartr API.\n",
    "## Importing the required libraries below."
   ]
  },
  {
   "cell_type": "code",
   "execution_count": 120,
   "metadata": {},
   "outputs": [],
   "source": [
    "import requests\n",
    "import json"
   ]
  },
  {
   "cell_type": "markdown",
   "metadata": {},
   "source": [
    "### Format your data below:"
   ]
  },
  {
   "cell_type": "code",
   "execution_count": 121,
   "metadata": {},
   "outputs": [],
   "source": [
    "job={\n",
    "    \"kind\" : \"test\"\n",
    "    \"value\": \"10\"\n",
    "}\n",
    "\n",
    "r = json.dumps(job)"
   ]
  },
  {
   "cell_type": "markdown",
   "metadata": {},
   "source": [
    "### Example to call the observation api for restartr below:"
   ]
  },
  {
   "cell_type": "code",
   "execution_count": null,
   "metadata": {},
   "outputs": [],
   "source": [
    "x = requests.post('https://reccap.cloudapps.unc.edu/api/observation',\n",
    "                  headers={\"Content-Type\": \"application/json\", \"X-API-Key\": \"<put-api-key-here>\"},\n",
    "                  data=r)\n",
    "print(\"The result of observation api\", x.text)"
   ]
  },
  {
   "cell_type": "markdown",
   "metadata": {},
   "source": [
    "### Example to call the query api for restartr below: "
   ]
  },
  {
   "cell_type": "code",
   "execution_count": null,
   "metadata": {},
   "outputs": [],
   "source": [
    "y = requests.post('https://reccap.cloudapps.unc.edu/api/query',\n",
    "                  headers={\"Content-Type\": \"application/json\", \"X-API-Key\": \"<put-api-key-here>\"},\n",
    "                  data=r)\n",
    "print(\"The result of query api\", y.text)"
   ]
  },
  {
   "cell_type": "markdown",
   "metadata": {},
   "source": [
    "### Example to query records by \"_id\" below:"
   ]
  },
  {
   "cell_type": "code",
   "execution_count": null,
   "metadata": {},
   "outputs": [],
   "source": [
    "# To query records by \"_id\" substitute the id below <place-id-here> after calling the observation api\n",
    "# which will return an id . \n",
    "# Example: s = {\"_id\": \"5f2c507e8b501271fb7b1d76\"}.\n",
    "# The id above in the example can also be uses to query a record that is already present in the database.\n",
    "\n",
    "s = {\"_id\": \"<put-id-here>\"}\n",
    "y = requests.post('https://reccap.cloudapps.unc.edu/api/query',\n",
    "                  headers={\"Content-Type\": \"application/json\", \"X-API-Key\": \"<put-api-key-here>\"},\n",
    "                  data=json.dumps(s))\n",
    "print( y.text)"
   ]
  },
  {
   "cell_type": "markdown",
   "metadata": {},
   "source": [
    "### Example to query records by sub-field below:"
   ]
  },
  {
   "cell_type": "code",
   "execution_count": null,
   "metadata": {},
   "outputs": [],
   "source": [
    "# To query by sub-field the data will have to be formated as it is below.\n",
    "# To run a query on existing data in database just use the Example below.\n",
    "# Using the EXAMPLE below will return all data that has a StudyId of 100160. \n",
    "# To run a query on a recently sent observation modify job_1 accordingly. \n",
    "\n",
    "\"\"\"EXAMPLE:\n",
    "job = {\n",
    "    \"results.StudyId\" : 100160,\n",
    "    \"byField\": \"results.StudyId\",\n",
    "} \"\"\"\n",
    "\n",
    "job_1 = {\n",
    "    \"results.<put-sub-field-here>\" : <put-sub-field-value>,\n",
    "    \"byField\": \"results.<put-sub-field-here>\",\n",
    "}\n",
    "i = json.dumps(job_1)\n",
    "y = requests.post('https://reccap.cloudapps.unc.edu/api/query',\n",
    "                  headers={\"Content-Type\": \"application/json\", \"X-API-Key\": \"<put-api-key-here>\"},\n",
    "                  data=i)\n",
    "print(\"The result of query api\", y.text)"
   ]
  },
  {
   "cell_type": "code",
   "execution_count": null,
   "metadata": {},
   "outputs": [],
   "source": []
  }
 ],
 "metadata": {
  "kernelspec": {
   "display_name": "Python 3",
   "language": "python",
   "name": "python3"
  },
  "language_info": {
   "codemirror_mode": {
    "name": "ipython",
    "version": 3
   },
   "file_extension": ".py",
   "mimetype": "text/x-python",
   "name": "python",
   "nbconvert_exporter": "python",
   "pygments_lexer": "ipython3",
   "version": "3.7.6"
  }
 },
 "nbformat": 4,
 "nbformat_minor": 4
}
