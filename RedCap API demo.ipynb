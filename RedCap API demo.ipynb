{
 "cells": [
  {
   "cell_type": "code",
   "execution_count": null,
   "metadata": {},
   "outputs": [],
   "source": [
    "# Importing the redcapAPI library\n",
    "library(redcapAPI)\n",
    "\n",
    "# Providing the institutions redcap url\n",
    "redcap_url <- \"<your redcap url>\"\n",
    "\n",
    "# The tokens required for import/export. \n",
    "token_ex <- \"\"\n",
    "token_im <- \"\"\n",
    "\n",
    "# Establishing a connection to redcap\n",
    "rcon <- redcapConnection(url=redcap_url, token=token_ex)\n",
    "\n",
    "# Using the export records function \n",
    "bd <- exportRecords(rcon, forms=\"blood_draw\") # only export the blood draw form\n",
    "bd1 <- bd[,c(\"mdnalbl\",\"pllbl\",\"plm0lbl\",\"plm0_1lbl\",\"blood_draw_complete\")] \n",
    "\n",
    "# save the 4 labels and the form status into a dataframe\n",
    "bd2 <- bd1[bd1$blood_draw_complete==2& !is.na(bd1$blood_draw_complete),c(c(\"mdnalbl\",\"pllbl\",\"plm0lbl\",\"plm0_1lbl\"))]\n",
    "\n",
    "# filter out non-complete data\n",
    "d_import <- bd2[!is.na(bd2)]\n",
    "\n",
    "# empty labels will be removed \n",
    "d_import <- data.frame(d_import) \n",
    "\n",
    "# our labels ready to be imported into project 2\n",
    "names(d_import)=\"record_id\" \n",
    "\n",
    "# becomes the record id in project2\n",
    "token_im=\"yourtrackingproject\"\n",
    "rconim=redcapConnection(url=redcap_url,token=token_im)\n",
    "importRecords(rconim,data=d_import,overwriteBehavior = c(\"normal\", \"overwrite\"),\n",
    "              returnContent = c(\"count\", \"ids\", \"nothing\"), returnData = FALSE,\n",
    "              logfile = \"\")"
   ]
  },
  {
   "cell_type": "code",
   "execution_count": null,
   "metadata": {},
   "outputs": [],
   "source": []
  }
 ],
 "metadata": {
  "kernelspec": {
   "display_name": "R",
   "language": "R",
   "name": "ir"
  },
  "language_info": {
   "codemirror_mode": "r",
   "file_extension": ".r",
   "mimetype": "text/x-r-source",
   "name": "R",
   "pygments_lexer": "r",
   "version": "3.6.3"
  }
 },
 "nbformat": 4,
 "nbformat_minor": 4
}
