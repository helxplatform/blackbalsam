{
 "cells": [
  {
   "cell_type": "markdown",
   "metadata": {},
   "source": [
    "# Below is a demo for exporting data from RedCap.\n",
    "### Dependencies redcapAPI library, API_KEY, and project url."
   ]
  },
  {
   "cell_type": "code",
   "execution_count": 86,
   "metadata": {},
   "outputs": [],
   "source": [
    "# Importing the library\n",
    "library(redcapAPI)"
   ]
  },
  {
   "cell_type": "markdown",
   "metadata": {},
   "source": [
    "### Establishing a connection to the redcap project."
   ]
  },
  {
   "cell_type": "code",
   "execution_count": 87,
   "metadata": {},
   "outputs": [],
   "source": [
    "RedCap_URL <- \"<put-project-url-here>\"\n",
    "API_KEY <- \"<put-api-token-here>\"\n",
    "rcon <- redcapConnection(url=RedCap_URL, token=API_KEY)"
   ]
  },
  {
   "cell_type": "markdown",
   "metadata": {},
   "source": [
    "### Exporting project metadata from redcap. \n",
    "### The metadata consists of various keys like field_type, form_name, field_name, identifier etc."
   ]
  },
  {
   "cell_type": "code",
   "execution_count": 88,
   "metadata": {},
   "outputs": [],
   "source": [
    "export_metadata <- exportMetaData(rcon,\n",
    "                  fields = NULL,\n",
    "                  forms = NULL,\n",
    "                    )"
   ]
  },
  {
   "cell_type": "markdown",
   "metadata": {},
   "source": [
    "### Exporting Records from RedCap ."
   ]
  },
  {
   "cell_type": "code",
   "execution_count": 102,
   "metadata": {},
   "outputs": [],
   "source": [
    "export <- exportRecords(\n",
    "   rcon,\n",
    "   fields = NULL,\n",
    "    forms = NULL,\n",
    "    recodrd= NULL\n",
    ")"
   ]
  },
  {
   "cell_type": "markdown",
   "metadata": {},
   "source": [
    "### Modifying exported records."
   ]
  },
  {
   "cell_type": "code",
   "execution_count": null,
   "metadata": {},
   "outputs": [],
   "source": [
    "# Filter records for specific forms. \n",
    "export = export [c(\"study_id\",\"redcap_survey_identifier\",\"eligibility_questions_timestamp\",\"eligibility_questions_complete\")]\n",
    "\n",
    "# Printing the records for a specific StudyId.\n",
    "export[export$study_id == c(100049),]\n",
    "\n",
    "# Changing the type to character so data can be modified. \n",
    "export$eligibility_questions_complete <- as.character(export$eligibility_questions_complete)\n",
    "\n",
    "# Filter-out non-data from eligibility_questions_timestamp column\n",
    "export = export[!is.na(export$eligibility_questions_timestamp),]\n",
    "\n",
    "# Adding a print statement to show difference between original data and modified data. \n",
    "print(\"Above is before manipulation, below is after manipulation\")\n",
    "\n",
    "# Update the data in dataframe by specific StudyId.\n",
    "export[export$study_id == c(100049),c('eligibility_questions_complete')] = 'incomplete'\n",
    "\n",
    "# Changing the type back to factor. \n",
    "export$eligibility_questions_complete <- as.factor(export$eligibility_questions_complete)\n",
    "\n",
    "#Printing modified data.\n",
    "export[export$study_id == c(100049),]\n",
    "\n",
    "# Use setwd to set the directory where the files will be saved.\n",
    "# Use /home/shared for sharing with other users.\n",
    "# Use /home/<username> for saving files for personal use. \n",
    "setwd(\"/home/shared\")\n",
    "\n",
    "# Use write.table function to export the data frame as a csv file.\n",
    "write.table(export, file = \"<your-file-name>.csv\", sep = \",\", row.names = TRUE, col.names = TRUE)"
   ]
  },
  {
   "cell_type": "markdown",
   "metadata": {},
   "source": [
    "### Reading in a csv file."
   ]
  },
  {
   "cell_type": "code",
   "execution_count": null,
   "metadata": {},
   "outputs": [],
   "source": [
    "data <- read.csv(\"<your-file-name>.csv\")\n",
    "\n",
    "# Printing the data for a specific StudyId. \n",
    "data[data$study_id == c(100049),]"
   ]
  },
  {
   "cell_type": "markdown",
   "metadata": {},
   "source": [
    "### Exporting Records by specifying different parameters such as records, fields,and forms. \n"
   ]
  },
  {
   "cell_type": "code",
   "execution_count": null,
   "metadata": {},
   "outputs": [],
   "source": [
    "# This is how a specific field can be exported by providing its colClass. \n",
    "show_fields =exportRecords(\n",
    "  rcon,\n",
    "  fields = 'eligibility_1',\n",
    "  records = NULL,\n",
    "  colClasses = 'eligibility_questions'\n",
    "    )\n",
    "\n",
    "show_fields"
   ]
  },
  {
   "cell_type": "code",
   "execution_count": null,
   "metadata": {},
   "outputs": [],
   "source": [
    "# This is how a specific form can be exported by specifying the form name in the form paremeter.\n",
    "show_forms =exportRecords(\n",
    "    rcon,\n",
    "    forms = \"consent_to_participate\",\n",
    "    records = NULL,\n",
    "    )\n",
    "show_forms"
   ]
  },
  {
   "cell_type": "code",
   "execution_count": null,
   "metadata": {},
   "outputs": [],
   "source": [
    "# By assigning NULL value to the exportRecords function parameters all of the records can be exported at once.\n",
    "show_all_records =exportRecords(\n",
    "    rcon,\n",
    "    forms = NULL,\n",
    "    records = NULL,\n",
    ")\n",
    "\n",
    "show_all_records"
   ]
  }
 ],
 "metadata": {
  "kernelspec": {
   "display_name": "R",
   "language": "R",
   "name": "ir"
  },
  "language_info": {
   "codemirror_mode": "r",
   "file_extension": ".r",
   "mimetype": "text/x-r-source",
   "name": "R",
   "pygments_lexer": "r",
   "version": "3.6.3"
  }
 },
 "nbformat": 4,
 "nbformat_minor": 4
}
