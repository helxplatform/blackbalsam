{
 "cells": [
  {
   "cell_type": "markdown",
   "metadata": {},
   "source": [
    "# Below is a demo for exporting data from RedCap.\n",
    "### Dependencies redcapAPI library, API_KEY, and project url."
   ]
  },
  {
   "cell_type": "code",
   "execution_count": 1,
   "metadata": {},
   "outputs": [],
   "source": [
    "# Importing the library\n",
    "library(redcapAPI)"
   ]
  },
  {
   "cell_type": "markdown",
   "metadata": {},
   "source": [
    "### Establishing a connection to the redcap project."
   ]
  },
  {
   "cell_type": "code",
   "execution_count": 4,
   "metadata": {},
   "outputs": [],
   "source": [
    "\n",
    "RedCap_URL <- \"<put-project-url-here>\"\n",
    "API_KEY <- \"<Put--token--here>\"\n",
    "rcon <- redcapConnection(url=RedCap_URL, token=API_KEY)"
   ]
  },
  {
   "cell_type": "markdown",
   "metadata": {},
   "source": [
    "### Exporting project metadata from redcap. \n",
    "### The metadata consists of various keys like field_type, form_name, field_name, identifier etc."
   ]
  },
  {
   "cell_type": "code",
   "execution_count": 5,
   "metadata": {},
   "outputs": [],
   "source": [
    "export_metadata <- exportMetaData(rcon,\n",
    "                  fields = NULL,\n",
    "                  forms = NULL,\n",
    "                    )"
   ]
  },
  {
   "cell_type": "markdown",
   "metadata": {},
   "source": [
    "### Exporting Records from RedCap ."
   ]
  },
  {
   "cell_type": "code",
   "execution_count": null,
   "metadata": {},
   "outputs": [],
   "source": [
    "export <- exportRecords(\n",
    "   rcon,\n",
    "   fields = NULL,\n",
    "    forms = NULL,\n",
    "    recodrd= NULL\n",
    " )\n",
    "\n",
    "export"
   ]
  },
  {
   "cell_type": "markdown",
   "metadata": {},
   "source": [
    "### Modifying Records to import data to redcap."
   ]
  },
  {
   "cell_type": "code",
   "execution_count": null,
   "metadata": {},
   "outputs": [],
   "source": [
    "export = export [,c(\"study_id\",\"redcap_survey_identifier\",\"eligibility_questions_timestamp\",\"eligibility_questions_complete\")]\n",
    "\n",
    "export$eligibility_questions_complete <- as.character(export$eligibility_questions_complete)\n",
    "\n",
    "# Filter-out non-data from eligibility_questions_timestam column\n",
    "\n",
    "export = export[!is.na(export$eligibility_questions_timestamp),]\n",
    "\n",
    "# Update the data in dataframe by specific ID\n",
    "\n",
    "export[export$study_id == c(100049),c('eligibility_questions_complete')] = 'incomplete'\n"
   ]
  },
  {
   "cell_type": "markdown",
   "metadata": {},
   "source": [
    "### Importing the data into RedCap database"
   ]
  },
  {
   "cell_type": "code",
   "execution_count": 5,
   "metadata": {},
   "outputs": [],
   "source": [
    "importRecords(\n",
    "  rcon,\n",
    "  export,\n",
    "  returnContent = 'ids',\n",
    ")"
   ]
  },
  {
   "cell_type": "markdown",
   "metadata": {},
   "source": [
    "### Exporting Records by specifying different parameters such as records, fields,and forms. \n"
   ]
  },
  {
   "cell_type": "code",
   "execution_count": null,
   "metadata": {},
   "outputs": [],
   "source": [
    "# This is how a specific field can be exported by providing its colClass. \n",
    "show_fields =exportRecords(\n",
    "  rcon,\n",
    "  fields = 'eligibility_1',\n",
    "  records = NULL,\n",
    "  colClasses = 'eligibility_questions'\n",
    "    )\n",
    "\n",
    "show_fields"
   ]
  },
  {
   "cell_type": "code",
   "execution_count": null,
   "metadata": {},
   "outputs": [],
   "source": [
    "# This is how a specific form can be exported by specifying the form name in the form paremeter.\n",
    "show_forms =exportRecords(\n",
    "    rcon,\n",
    "    forms = \"consent_to_participate\",\n",
    "    records = NULL,\n",
    "    )\n",
    "show_forms"
   ]
  },
  {
   "cell_type": "code",
   "execution_count": null,
   "metadata": {},
   "outputs": [],
   "source": [
    "# By assigning NULL value to the exportRecords function parameters all of the records can be exported at once.\n",
    "show_all_records =exportRecords(\n",
    "    rcon,\n",
    "    forms = NULL,\n",
    "    records = NULL,\n",
    ")\n",
    "\n",
    "show_all_records"
   ]
  },
  {
   "cell_type": "code",
   "execution_count": null,
   "metadata": {},
   "outputs": [],
   "source": []
  }
 ],
 "metadata": {
  "kernelspec": {
   "display_name": "R",
   "language": "R",
   "name": "ir"
  },
  "language_info": {
   "codemirror_mode": "r",
   "file_extension": ".r",
   "mimetype": "text/x-r-source",
   "name": "R",
   "pygments_lexer": "r",
   "version": "3.6.3"
  }
 },
 "nbformat": 4,
 "nbformat_minor": 4
}
