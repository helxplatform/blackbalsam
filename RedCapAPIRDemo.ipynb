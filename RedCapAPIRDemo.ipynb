{
 "cells": [
  {
   "cell_type": "markdown",
   "metadata": {},
   "source": [
    "# Below is a demo for exporting data from RedCap.\n",
    "### Dependencies redcapAPI library, API_KEY, and project url."
   ]
  },
  {
   "cell_type": "code",
   "execution_count": null,
   "metadata": {},
   "outputs": [],
   "source": [
    "# Importing the library\n",
    "library(redcapAPI)"
   ]
  },
  {
   "cell_type": "markdown",
   "metadata": {},
   "source": [
    "### Establishing a connection to the redcap project."
   ]
  },
  {
   "cell_type": "code",
   "execution_count": null,
   "metadata": {},
   "outputs": [],
   "source": [
    "RedCap_URL <- \"<put-project-url-here>\"\n",
    "API_KEY <- \"<put-api-token-here>\"\n",
    "rcon <- redcapConnection(url=RedCap_URL, token=API_KEY)"
   ]
  },
  {
   "cell_type": "markdown",
   "metadata": {},
   "source": [
    "### Exporting project metadata from redcap. \n",
    "### The metadata consists of various keys like field_type, form_name, field_name, identifier etc."
   ]
  },
  {
   "cell_type": "code",
   "execution_count": null,
   "metadata": {},
   "outputs": [],
   "source": [
    "export_metadata <- exportMetaData(rcon,\n",
    "                  fields = NULL,\n",
    "                  forms = NULL,\n",
    ")\n",
    "\n",
    "export_metadata "
   ]
  },
  {
   "cell_type": "markdown",
   "metadata": {},
   "source": [
    "### Exporting Records from RedCap ."
   ]
  },
  {
   "cell_type": "code",
   "execution_count": null,
   "metadata": {},
   "outputs": [],
   "source": [
    "export <- suppressWarnings(exportRecords(\n",
    "   rcon,\n",
    "   fields = NULL,\n",
    "    forms = NULL,\n",
    "    recodrd= NULL\n",
    " ))\n",
    "\n",
    "export"
   ]
  },
  {
   "cell_type": "markdown",
   "metadata": {},
   "source": [
    "### Exporting Records by specifying different parameters such as records, fields,and forms. \n"
   ]
  },
  {
   "cell_type": "code",
   "execution_count": null,
   "metadata": {},
   "outputs": [],
   "source": [
    "# This is how a specific field can be exported. \n",
    "show_fields =exportRecords(\n",
    "  rcon,\n",
    "  fields = 'eligibility_1',\n",
    "  records = NULL,\n",
    "    )\n",
    "\n",
    "show_fields"
   ]
  },
  {
   "cell_type": "code",
   "execution_count": null,
   "metadata": {},
   "outputs": [],
   "source": [
    "# This is how a specific form can be exported by specifying the form name in the form paremeter.\n",
    "show_forms =exportRecords(\n",
    "    rcon,\n",
    "    forms = \"consent_to_participate\",\n",
    "    records = NULL,\n",
    "    )\n",
    "show_forms"
   ]
  },
  {
   "cell_type": "code",
   "execution_count": null,
   "metadata": {},
   "outputs": [],
   "source": [
    "# By assigning NULL value to the exportRecords function parameters all of the records can be exported at once.\n",
    "show_all_records =suppressWarnings(exportRecords(\n",
    "    rcon,\n",
    "    forms = NULL,\n",
    "    records = NULL,\n",
    "))\n",
    "\n",
    "show_all_records"
   ]
  }
 ],
 "metadata": {
  "kernelspec": {
   "display_name": "R",
   "language": "R",
   "name": "ir"
  },
  "language_info": {
   "codemirror_mode": "r",
   "file_extension": ".r",
   "mimetype": "text/x-r-source",
   "name": "R",
   "pygments_lexer": "r",
   "version": "3.6.3"
  }
 },
 "nbformat": 4,
 "nbformat_minor": 4
}
